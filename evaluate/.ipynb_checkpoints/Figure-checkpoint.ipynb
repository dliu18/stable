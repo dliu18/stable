{
 "cells": [
  {
   "cell_type": "code",
   "execution_count": 5,
   "id": "4c6f1003",
   "metadata": {},
   "outputs": [],
   "source": [
    "import pandas as pd\n",
    "import numpy as np\n",
    "import math"
   ]
  },
  {
   "cell_type": "code",
   "execution_count": 27,
   "id": "22f9ab8b",
   "metadata": {},
   "outputs": [],
   "source": [
    "def stderr(datapoints):\n",
    "    n = len(datapoints)\n",
    "    S = n * np.var(datapoints) / (n - 1)\n",
    "    return math.sqrt(S / n)\n",
    "\n",
    "def ci(datapoints):\n",
    "    return 1.96 * stderr(datapoints)"
   ]
  },
  {
   "cell_type": "code",
   "execution_count": 28,
   "id": "8ce57680",
   "metadata": {},
   "outputs": [],
   "source": [
    "results_pd = pd.read_csv(\"link-prediction-result.csv\")"
   ]
  },
  {
   "cell_type": "code",
   "execution_count": 29,
   "id": "980d2bbe",
   "metadata": {},
   "outputs": [],
   "source": [
    "results_pd = results_pd.groupby([\"Graph\", \"Algorithm\"]).agg([\"mean\", ci, stderr])"
   ]
  },
  {
   "cell_type": "code",
   "execution_count": 30,
   "id": "79ebc16b",
   "metadata": {},
   "outputs": [
    {
     "name": "stdout",
     "output_type": "stream",
     "text": [
      "Facebook & 0.982$\\pm$0.000 & 0.924$\\pm$0.047 & 0.971$\\pm$0.001 & 0.933$\\pm$0.001\\\\\\hline\n",
      "Autonomous Systems & 0.693$\\pm$0.002 & 0.699$\\pm$0.020 & 0.693$\\pm$0.007 & 0.672$\\pm$0.004\\\\\\hline\n",
      "Protein-Protein & 0.770$\\pm$0.016 & 0.761$\\pm$0.008 & 0.638$\\pm$0.036 & 0.660$\\pm$0.022\\\\\\hline\n",
      "ca-HepTh & 0.811$\\pm$0.008 & 0.811$\\pm$0.008 & 0.893$\\pm$0.003 & 0.890$\\pm$0.001\\\\\\hline\n",
      "LastFM & 0.910$\\pm$0.001 & 0.785$\\pm$0.001 & 0.914$\\pm$0.001 & 0.895$\\pm$0.002\\\\\\hline\n",
      "Wikipedia & 0.614$\\pm$0.001 & 0.615$\\pm$0.001 & 0.458$\\pm$0.008 & 0.499$\\pm$0.003\\\\\\hline\n"
     ]
    }
   ],
   "source": [
    "graphs = [\"Facebook\", \"Autonomous Systems\", \"Protein-Protein\", \"ca-HepTh\", \"LastFM\", \"Wikipedia\"]\n",
    "for graph in graphs:\n",
    "    row = \"\"\n",
    "    row = \"{} & {:.3f}$\\\\pm${:.3f} & {:.3f}$\\\\pm${:.3f} & {:.3f}$\\\\pm${:.3f} & {:.3f}$\\\\pm${:.3f}\\\\\\\\\\\\hline\".format(\n",
    "#     row = \"{} & {:.2f}({:.2f}) & {:.2f}({:.2f}) & {:.2f}({:.2f}) & {:.2f}({:.2f}) & {:.2f}({:.2f}) & {:.2f}({:.2f}) & {:.2f}({:.2f}) & {:.2f}({:.2f})\\\\\\\\\\\\hline\".format(\n",
    "        graph,\n",
    "#         results_pd.loc[graph, \"LE\"].loc[\"F1\", \"mean\"],\n",
    "#         1.96 * results_pd.loc[graph, \"LE\"].loc[\"F1\", \"std\"],\n",
    "#         results_pd.loc[graph, \"Stable LE\"].loc[\"F1\", \"mean\"],\n",
    "#         1.96 * results_pd.loc[graph, \"Stable LE\"].loc[\"F1\", \"std\"],\n",
    "        results_pd.loc[graph, \"LE\"].loc[\"ROC\", \"mean\"],\n",
    "        results_pd.loc[graph, \"LE\"].loc[\"ROC\", \"ci\"],\n",
    "        results_pd.loc[graph, \"Stable LE\"].loc[\"ROC\", \"mean\"],\n",
    "        results_pd.loc[graph, \"Stable LE\"].loc[\"ROC\", \"ci\"],\n",
    "#         results_pd.loc[graph, \"LINE\"].loc[\"F1\", \"mean\"],\n",
    "#         1.96 * results_pd.loc[graph, \"LINE\"].loc[\"F1\", \"std\"],\n",
    "#         results_pd.loc[graph, \"Stable LINE\"].loc[\"F1\", \"mean\"],\n",
    "#         1.96 * results_pd.loc[graph, \"Stable LINE\"].loc[\"F1\", \"std\"],\n",
    "        results_pd.loc[graph, \"LINE\"].loc[\"ROC\", \"mean\"],\n",
    "        results_pd.loc[graph, \"LINE\"].loc[\"ROC\", \"ci\"],\n",
    "        results_pd.loc[graph, \"Stable LINE\"].loc[\"ROC\", \"mean\"],\n",
    "        results_pd.loc[graph, \"Stable LINE\"].loc[\"ROC\", \"ci\"],\n",
    "    )\n",
    "    print(row)"
   ]
  },
  {
   "cell_type": "code",
   "execution_count": 31,
   "id": "09584bd0",
   "metadata": {},
   "outputs": [
    {
     "name": "stdout",
     "output_type": "stream",
     "text": [
      "Autonomous Systems LE\n",
      "Protein-Protein LE\n",
      "Protein-Protein LINE\n",
      "ca-HepTh LE\n",
      "Wikipedia LE\n"
     ]
    }
   ],
   "source": [
    "for graphName in graphs:\n",
    "    for alg in [\"LE\", \"LINE\"]:\n",
    "        base_mean = results_pd.loc[graphName, alg].loc[\"ROC\", \"mean\"]\n",
    "        base_se = results_pd.loc[graphName, alg].loc[\"ROC\", \"stderr\"]\n",
    "        \n",
    "        stable_mean = results_pd.loc[graphName, \"Stable \" + alg].loc[\"ROC\", \"mean\"]\n",
    "        stable_se = results_pd.loc[graphName, \"Stable \" + alg].loc[\"ROC\", \"stderr\"]\n",
    "\n",
    "        t = (stable_mean - base_mean) / math.sqrt(base_se**2 + stable_se**2)\n",
    "        if abs(t) <= 1.96:\n",
    "            print(\"{} {}\".format(graphName, alg))"
   ]
  },
  {
   "cell_type": "code",
   "execution_count": 6,
   "id": "b9ac7c67",
   "metadata": {},
   "outputs": [
    {
     "name": "stdout",
     "output_type": "stream",
     "text": [
      "Average Gap: -0.031\n"
     ]
    }
   ],
   "source": [
    "graphs = [\"Facebook\", \"Autonomous Systems\", \"Protein-Protein\", \"ca-HepTh\", \"LastFM\", \"Wikipedia\"]\n",
    "total_gap = 0.0\n",
    "for graph in graphs:\n",
    "    stable_auc = results_pd.loc[graph, \"Stable LE\"].loc[\"ROC\", \"mean\"]\n",
    "    base_auc = results_pd.loc[graph, \"LE\"].loc[\"ROC\", \"mean\"]\n",
    "    total_gap += (stable_auc - base_auc)\n",
    "print(\"Average Gap: {:.3f}\".format(total_gap / len(graphs)))"
   ]
  },
  {
   "cell_type": "code",
   "execution_count": 7,
   "id": "dd44e9da",
   "metadata": {},
   "outputs": [
    {
     "name": "stdout",
     "output_type": "stream",
     "text": [
      "Average Gap: -0.003\n"
     ]
    }
   ],
   "source": [
    "graphs = [\"Facebook\", \"Autonomous Systems\", \"Protein-Protein\", \"ca-HepTh\", \"LastFM\", \"Wikipedia\"]\n",
    "total_gap = 0.0\n",
    "for graph in graphs:\n",
    "    stable_auc = results_pd.loc[graph, \"Stable LINE\"].loc[\"ROC\", \"mean\"]\n",
    "    base_auc = results_pd.loc[graph, \"LINE\"].loc[\"ROC\", \"mean\"]\n",
    "    total_gap += (stable_auc - base_auc)\n",
    "print(\"Average Gap: {:.3f}\".format(total_gap / len(graphs)))"
   ]
  }
 ],
 "metadata": {
  "kernelspec": {
   "display_name": "Python 3",
   "language": "python",
   "name": "python3"
  },
  "language_info": {
   "codemirror_mode": {
    "name": "ipython",
    "version": 3
   },
   "file_extension": ".py",
   "mimetype": "text/x-python",
   "name": "python",
   "nbconvert_exporter": "python",
   "pygments_lexer": "ipython3",
   "version": "3.7.10"
  }
 },
 "nbformat": 4,
 "nbformat_minor": 5
}
